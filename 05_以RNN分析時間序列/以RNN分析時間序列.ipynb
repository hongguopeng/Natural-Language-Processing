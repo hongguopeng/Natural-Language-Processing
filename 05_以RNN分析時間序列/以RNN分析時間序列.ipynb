{
 "cells": [
  {
   "cell_type": "code",
   "execution_count": 1,
   "metadata": {},
   "outputs": [],
   "source": [
    "import warnings\n",
    "warnings.filterwarnings('ignore')\n",
    "import numpy as np\n",
    "import tensorflow as tf\n",
    "from tensorflow.contrib import rnn\n",
    "import data_loader\n",
    "import matplotlib.pyplot as plt"
   ]
  },
  {
   "cell_type": "code",
   "execution_count": 2,
   "metadata": {},
   "outputs": [],
   "source": [
    "class SeriesPredictor(object):\n",
    "\n",
    "    def __init__(self, input_dim, seq_size, hidden_dim , batch_size):\n",
    "        # Hyperparameters\n",
    "        self.input_dim = input_dim\n",
    "        self.seq_size = seq_size\n",
    "        self.hidden_dim = hidden_dim\n",
    "        self.batch_size = batch_size\n",
    "\n",
    "        self.x = tf.placeholder(tf.float32, [None , seq_size, input_dim])\n",
    "        self.y = tf.placeholder(tf.float32, [None , seq_size])\n",
    "        \n",
    "        # Weight variables and input placeholders        \n",
    "        self.W_out = tf.get_variable(initializer = tf.random_normal([hidden_dim , 1]) , \n",
    "                                     name = 'w_out')\n",
    "        self.b_out = tf.get_variable(initializer = tf.random_normal([1]) , \n",
    "                                     name = 'b_out')\n",
    "       \n",
    "        with tf.variable_scope('bulid_rnn_network'):\n",
    "            self.build_network()\n",
    "        \n",
    "        with tf.variable_scope('cost'):\n",
    "            self.cost()\n",
    "    \n",
    "    @staticmethod\n",
    "    # 一定要這樣寫，否則會因為\"self.x的維度不等於self.hidden_dim\"而報錯\n",
    "    # 如果不想這樣寫的話，可以把self.x丟到rnn cell之前先經過一個全連接層，使self.x的輸出跟self.hidden_dim一樣。\n",
    "    def lstm_cell(hidden_size): \n",
    "        cell = tf.contrib.rnn.LSTMCell(hidden_size , use_peepholes = True)\n",
    "        return cell\n",
    "    \n",
    "    def build_network(self):\n",
    "        mlstm_cell = tf.contrib.rnn.MultiRNNCell([self.lstm_cell(self.hidden_dim) for _ in range(2)] , \n",
    "                                                 state_is_tuple = True) \n",
    "        \n",
    "        self.init_state = mlstm_cell.zero_state(self.batch_size , dtype = tf.float32)\n",
    "        \n",
    "        self.outputs, self.states = tf.nn.dynamic_rnn(mlstm_cell , \n",
    "                                                      inputs = self.x ,\n",
    "                                                      initial_state = self.init_state , \n",
    "                                                      dtype = tf.float32)\n",
    "       \n",
    "        self.out = tf.matmul(tf.reshape(self.outputs , [-1 , self.hidden_dim]) , self.W_out) + self.b_out\n",
    "       \n",
    "        self.out = tf.reshape(self.out , [-1 , self.seq_size])\n",
    "    \n",
    "    def cost(self):       \n",
    "        weight_bias = []\n",
    "        for i in tf.trainable_variables():\n",
    "            weight_bias.append(i)\n",
    "        \n",
    "        # 加上regularization，防止overfitting\n",
    "        regularization = tf.zeros([])\n",
    "        for i in range(0 , len(weight_bias)):\n",
    "            regularization += tf.reduce_mean(tf.square(weight_bias[i]))\n",
    "        \n",
    "        self.cost = tf.reduce_mean(tf.square(self.out - self.y)) + 0.0005 * regularization\n",
    "        self.train_op = tf.train.AdamOptimizer(learning_rate = 0.01).minimize(self.cost)"
   ]
  },
  {
   "cell_type": "code",
   "execution_count": 3,
   "metadata": {},
   "outputs": [],
   "source": [
    "seq_size = 5\n",
    "predictor = SeriesPredictor(input_dim = 1,\n",
    "                            seq_size = seq_size , \n",
    "                            hidden_dim = 10 ,\n",
    "                            batch_size = 110) "
   ]
  },
  {
   "cell_type": "code",
   "execution_count": 4,
   "metadata": {},
   "outputs": [],
   "source": [
    "# load data\n",
    "data = data_loader.load_series('international-airline-passengers.csv')\n",
    "train_data , test_data = data_loader.split_data(data)\n",
    "\n",
    "# prepare train_data(利用錯位的概念)\n",
    "# source_x : V1 V2 V3 V4 V5 \n",
    "# target_y : V2 V3 V4 V5 V6 \n",
    "source_x , target_y = [] , []\n",
    "for i in range(len(train_data) - seq_size - 1):\n",
    "    temp_x = np.array(train_data[i : i + seq_size]).reshape(-1 , 1)\n",
    "    source_x.append(temp_x)\n",
    "    temp_y = np.array(train_data[i + 1 : i + seq_size + 1])\n",
    "    target_y.append(temp_y)\n",
    "source_x = np.array(source_x)  \n",
    "target_y = np.array(target_y)  \n",
    "\n",
    "# prepare test_data(利用錯位的概念)\n",
    "# test_x : V1 V2 V3 V4 V5 \n",
    "# test_y : V2 V3 V4 V5 V6 \n",
    "test_x , test_y = [] , []\n",
    "for i in range(len(test_data) - seq_size - 1):\n",
    "    temp_x = np.array(test_data[i : i + seq_size]).reshape(-1 , 1)\n",
    "    test_x.append(temp_x)\n",
    "    temp_y = np.array(test_data[i + 1 : i + seq_size + 1])\n",
    "    test_y.append(temp_y)\n",
    "test_x = np.array(test_x)  \n",
    "test_y = np.array(test_y)  "
   ]
  },
  {
   "cell_type": "code",
   "execution_count": 5,
   "metadata": {},
   "outputs": [
    {
     "name": "stdout",
     "output_type": "stream",
     "text": [
      "step: 0\t\ttrain err: 0.5938550233840942\n",
      "step: 100\t\ttrain err: 0.0424935407936573\n",
      "step: 200\t\ttrain err: 0.04063469544053078\n",
      "step: 300\t\ttrain err: 0.03956945985555649\n",
      "step: 400\t\ttrain err: 0.03819872438907623\n",
      "step: 500\t\ttrain err: 0.03629080578684807\n",
      "step: 600\t\ttrain err: 0.03356051817536354\n",
      "step: 700\t\ttrain err: 0.03042224422097206\n",
      "step: 800\t\ttrain err: 0.027849044650793076\n",
      "step: 900\t\ttrain err: 0.026320915669202805\n",
      "step: 1000\t\ttrain err: 0.0253322571516037\n",
      "step: 1100\t\ttrain err: 0.024553323164582253\n",
      "step: 1200\t\ttrain err: 0.02380693517625332\n",
      "step: 1300\t\ttrain err: 0.023224256932735443\n",
      "step: 1400\t\ttrain err: 0.02269248105585575\n",
      "step: 1500\t\ttrain err: 0.02214909717440605\n",
      "step: 1600\t\ttrain err: 0.021678637713193893\n",
      "step: 1700\t\ttrain err: 0.021345242857933044\n",
      "step: 1800\t\ttrain err: 0.02095227688550949\n",
      "step: 1900\t\ttrain err: 0.020630156621336937\n",
      "step: 2000\t\ttrain err: 0.020343810319900513\n",
      "step: 2100\t\ttrain err: 0.020094333216547966\n",
      "step: 2200\t\ttrain err: 0.019867468625307083\n",
      "step: 2300\t\ttrain err: 0.019658032804727554\n",
      "step: 2400\t\ttrain err: 0.019431525841355324\n",
      "step: 2500\t\ttrain err: 0.01916513964533806\n",
      "step: 2600\t\ttrain err: 0.0189131498336792\n",
      "step: 2700\t\ttrain err: 0.018948884680867195\n",
      "step: 2800\t\ttrain err: 0.018471412360668182\n",
      "step: 2900\t\ttrain err: 0.01831439509987831\n",
      "step: 3000\t\ttrain err: 0.01811087317764759\n",
      "step: 3100\t\ttrain err: 0.018049949780106544\n",
      "step: 3200\t\ttrain err: 0.017795605584979057\n",
      "step: 3300\t\ttrain err: 0.017887702211737633\n",
      "step: 3400\t\ttrain err: 0.017580442130565643\n",
      "step: 3500\t\ttrain err: 0.017427874729037285\n",
      "Model saved to ./model/rnn_net\n"
     ]
    }
   ],
   "source": [
    "# start to train\n",
    "sess = tf.Session() \n",
    "sess.run(tf.global_variables_initializer())\n",
    "saver = tf.train.Saver()\n",
    "\n",
    "max_patience = 5\n",
    "patience = max_patience\n",
    "min_train_err = float('inf')\n",
    "step = 0\n",
    "while patience > 0:    \n",
    "    feed_dict = {predictor.x: source_x , predictor.y: target_y}    \n",
    "    sess.run(predictor.train_op , feed_dict)\n",
    "    train_err = sess.run(predictor.cost , feed_dict)\n",
    "    \n",
    "    if step % 100 == 0:\n",
    "        print('step: {}\\t\\ttrain err: {}'.format(step, train_err))\n",
    "        # 這裡的概念 : cost持續變小代表還沒收斂，\n",
    "        # 但只要cost在下一步變大，代表可能已經開始收斂，這裡規定變大max_patience就停止訓練\n",
    "        if train_err < min_train_err: \n",
    "            min_train_err = train_err\n",
    "            patience = max_patience\n",
    "        else:\n",
    "            patience -= 1\n",
    "    step += 1\n",
    "    \n",
    "    if step > 3500:\n",
    "        break\n",
    "        \n",
    "# save model    \n",
    "save_path = saver.save(sess, './model/rnn_net')\n",
    "print('Model saved to {}'.format(save_path))        "
   ]
  },
  {
   "cell_type": "code",
   "execution_count": 6,
   "metadata": {},
   "outputs": [
    {
     "data": {
      "text/plain": [
       "<matplotlib.legend.Legend at 0x19bb8d552e8>"
      ]
     },
     "execution_count": 6,
     "metadata": {},
     "output_type": "execute_result"
    },
    {
     "data": {
      "image/png": "[encoded data removed]",
      "text/plain": [
       "<Figure size 720x432 with 1 Axes>"
      ]
     },
     "metadata": {
      "needs_background": "light"
     },
     "output_type": "display_data"
    }
   ],
   "source": [
    "# 看一下測試結果\n",
    "tf.get_variable_scope().reuse_variables()\n",
    "seq_size = 5\n",
    "predictor_test = SeriesPredictor(input_dim = 1,\n",
    "                                 seq_size = seq_size , \n",
    "                                 hidden_dim = 10 ,\n",
    "                                 batch_size = 22) \n",
    "predicted_vals = sess.run(predictor_test.out , feed_dict = {predictor_test.x : test_x})\n",
    "predictions = predicted_vals[: , 0]\n",
    "\n",
    "fig = plt.figure(figsize = (10 , 6)) \n",
    "num_train = len(train_data)\n",
    "plt.plot(list(range(0 , num_train)) , train_data , color = 'b' , label = 'training data')\n",
    "plt.plot(list(range(num_train , num_train + len(predictions))), predictions , color = 'r' , label = 'predicted')\n",
    "plt.plot(list(range(num_train , num_train + len(test_data))) , test_data , color = 'g', label = 'test data')\n",
    "plt.legend()"
   ]
  }
 ],
 "metadata": {
  "kernelspec": {
   "display_name": "Python 3",
   "language": "python",
   "name": "python3"
  },
  "language_info": {
   "codemirror_mode": {
    "name": "ipython",
    "version": 3
   },
   "file_extension": ".py",
   "mimetype": "text/x-python",
   "name": "python",
   "nbconvert_exporter": "python",
   "pygments_lexer": "ipython3",
   "version": "3.6.5"
  }
 },
 "nbformat": 4,
 "nbformat_minor": 2
}
