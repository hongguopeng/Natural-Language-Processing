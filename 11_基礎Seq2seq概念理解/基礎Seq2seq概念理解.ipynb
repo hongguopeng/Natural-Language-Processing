{
 "cells": [
  {
   "cell_type": "markdown",
   "metadata": {},
   "source": [
    "seq2seq網絡架構:\n",
    "![seq2seq 網絡架構](seq2seq.jpg)\n",
    "Encoder 獲得輸入 [What , are , you , looking , at]，我們不關心encoder的輸出是什麽，只需要得到它最後的隱含狀態u就可以了，將它傳遞給decoder端即可<br><br>\n",
    "而Decoder端在訓練時採用Teacher Forcing的方法，也就是說在Decoder端，正常情況下t-1時刻的輸出應該是當作t時刻的輸入<br>\n",
    "但是使用了Teacher Forcing後，不管Decoder在上一個時刻的實際輸出的是什麽，就算是輸出錯的答案，t時刻的輸入永遠是t-1時刻的期望輸出(ground truth)<br><br>\n",
    "例如訓練的目標為`[你 , 瞅 , 啥 , <EOS>]`，decoder端輸入就是`[<GO> , 你 , 瞅 , 啥]` <br>"
   ]
  },
  {
   "cell_type": "markdown",
   "metadata": {},
   "source": [
    "# Build Model"
   ]
  },
  {
   "cell_type": "code",
   "execution_count": 1,
   "metadata": {},
   "outputs": [],
   "source": [
    "import warnings\n",
    "warnings.filterwarnings('ignore')\n",
    "import numpy as np\n",
    "import tensorflow as tf\n",
    "import random\n",
    "import matplotlib.pyplot as plt"
   ]
  },
  {
   "cell_type": "code",
   "execution_count": 2,
   "metadata": {},
   "outputs": [],
   "source": [
    "PAD = 0\n",
    "GO = 1\n",
    "EOS = 10\n",
    "\n",
    "vocab_size = 10\n",
    "input_embedding_size = 20\n",
    "encoder_hidden_units = 20\n",
    "decoder_hidden_units = encoder_hidden_units\n",
    "batch_size = 100"
   ]
  },
  {
   "cell_type": "markdown",
   "metadata": {},
   "source": [
    "- encoder_inputs  => shape : [encoder_max_time , batch_size]\n",
    "- decoder_targets => int32 tensor is shaped : [decoder_max_time , batch_size]\n",
    "- decoder_inputs  =>  int32 tensor is shaped : [decoder_max_time , batch_size]"
   ]
  },
  {
   "cell_type": "code",
   "execution_count": 3,
   "metadata": {},
   "outputs": [],
   "source": [
    "encoder_inputs = tf.placeholder(shape = [batch_size , 8] ,\n",
    "                                dtype = tf.int32 ,\n",
    "                                name = 'encoder_inputs')\n",
    "\n",
    "decoder_inputs = tf.placeholder(shape = [batch_size , 9] , \n",
    "                                dtype = tf.int32 ,\n",
    "                                name = 'decoder_inputs')\n",
    "\n",
    "decoder_targets = tf.placeholder(shape = [batch_size , 9] ,\n",
    "                                 dtype = tf.int32 , \n",
    "                                 name = 'decoder_targets')"
   ]
  },
  {
   "cell_type": "code",
   "execution_count": 4,
   "metadata": {},
   "outputs": [],
   "source": [
    "def lstm_cell(hidden_size): \n",
    "    cell = tf.contrib.rnn.LSTMCell(hidden_size , use_peepholes = True)\n",
    "    return cell\n",
    "\n",
    "def add_layer(inputs , in_size , out_size , activaction_function = None):\n",
    "    Weights = tf.Variable(tf.truncated_normal([in_size , out_size] , mean = 0.01 , stddev = 0.1) , name = 'w')\n",
    "    biases = tf.Variable(tf.zeros([1 , out_size]) + 0.01 , name = 'b')\n",
    "    Wx_plus_b = tf.matmul(inputs , Weights) + biases\n",
    "\n",
    "    if activaction_function is None:\n",
    "        outputs = Wx_plus_b\n",
    "    else:\n",
    "        outputs = activaction_function(Wx_plus_b)\n",
    "    \n",
    "    return outputs"
   ]
  },
  {
   "cell_type": "markdown",
   "metadata": {},
   "source": [
    "## Embeddings & Encoder\n"
   ]
  },
  {
   "cell_type": "code",
   "execution_count": 5,
   "metadata": {},
   "outputs": [],
   "source": [
    "with tf.variable_scope('embedding'):  \n",
    "    embeddings = tf.Variable(tf.random_uniform([vocab_size , input_embedding_size] , -1.0 , 1.0),\n",
    "                             dtype = tf.float32) # -> (10, 20) \n",
    "    encoder_inputs_embedded = tf.nn.embedding_lookup(embeddings , encoder_inputs) # -> (100 , 8 , 20)\n",
    "    decoder_inputs_embedded = tf.nn.embedding_lookup(embeddings , decoder_inputs) # -> (100 , 9 , 20)\n",
    "    \n",
    "with tf.variable_scope('encoder_LSTM'):    \n",
    "    encoder_cell = tf.nn.rnn_cell.MultiRNNCell([lstm_cell(encoder_hidden_units) for _ in range(1)] , \n",
    "                                                state_is_tuple = True) \n",
    "   \n",
    "    encoder_state = encoder_cell.zero_state(batch_size , dtype = tf.float32)\n",
    "    encoder_outputs , encoder_final_state = tf.nn.dynamic_rnn(encoder_cell, \n",
    "                                                              encoder_inputs_embedded,\n",
    "                                                              dtype = tf.float32,\n",
    "                                                              time_major = False)    "
   ]
  },
  {
   "cell_type": "markdown",
   "metadata": {},
   "source": [
    "## Decoder"
   ]
  },
  {
   "cell_type": "code",
   "execution_count": 6,
   "metadata": {},
   "outputs": [],
   "source": [
    "with tf.variable_scope('decoder_LSTM'):\n",
    "    decoder_cell = tf.nn.rnn_cell.MultiRNNCell([lstm_cell(decoder_hidden_units) for _ in range(1)] , \n",
    "                                                state_is_tuple = True) \n",
    "\n",
    "    decoder_outputs, decoder_final_state = tf.nn.dynamic_rnn(decoder_cell, \n",
    "                                                             decoder_inputs_embedded,\n",
    "                                                             initial_state = encoder_final_state,\n",
    "                                                             dtype = tf.float32, \n",
    "                                                             time_major = False)\n",
    "    \n",
    "    decoder_outputs_ = tf.reshape(decoder_outputs , [-1 , decoder_hidden_units])"
   ]
  },
  {
   "cell_type": "markdown",
   "metadata": {},
   "source": [
    "## Fully Connected"
   ]
  },
  {
   "cell_type": "code",
   "execution_count": 7,
   "metadata": {},
   "outputs": [],
   "source": [
    "with tf.variable_scope('fully_connected'):\n",
    "    decoder_prediction = add_layer(decoder_outputs_ , \n",
    "                                   decoder_hidden_units , \n",
    "                                   vocab_size , \n",
    "                                   activaction_function = tf.nn.softmax) # -> (900, 10) \n",
    "    decoder_prediction_ = tf.argmax(decoder_prediction , axis = 1) # -> (900, )\n",
    "    decoder_prediction_visualize = tf.reshape(decoder_prediction_ , [batch_size , 9]) # -> (100, 9)\n",
    "\n",
    "decoder_targets_onehot = tf.one_hot(decoder_targets , vocab_size) # -> (100, 9, 10)\n",
    "decoder_targets_onehot = tf.reshape(decoder_targets_onehot , [-1 , vocab_size]) # -> (900, 10)    "
   ]
  },
  {
   "cell_type": "markdown",
   "metadata": {},
   "source": [
    "## Optimizer"
   ]
  },
  {
   "cell_type": "code",
   "execution_count": 8,
   "metadata": {},
   "outputs": [],
   "source": [
    "croee_entropy_temp = -tf.reduce_sum(decoder_targets_onehot * tf.log(decoder_prediction) , axis = 1)\n",
    "croee_entropy = tf.reduce_mean(croee_entropy_temp)\n",
    "train_op = tf.train.AdamOptimizer().minimize(croee_entropy)"
   ]
  },
  {
   "cell_type": "code",
   "execution_count": 9,
   "metadata": {},
   "outputs": [],
   "source": [
    "# 產生一個batch訓練資料\n",
    "def random_sequences(length_from , length_to , vocab_lower , vocab_upper , batch_size):\n",
    "\n",
    "    encoder_inputs_ = [[] for _ in range(0 , batch_size)]\n",
    "    \n",
    "    for i in range(0 , batch_size):\n",
    "        num = random.randint(length_from , length_to) \n",
    "        encoder_inputs_[i] = random.sample(range(vocab_lower , vocab_upper) , num)\n",
    "\n",
    "    return encoder_inputs_\n",
    "\n",
    "def zeros_padding(encoder_inputs_ , max_len , PAD , GO , EOS):\n",
    "    decoder_targets_ = [[] for _ in range(0 , len(encoder_inputs_))]\n",
    "    for i in range(0 , len(encoder_inputs_)):\n",
    "        decoder_targets_[i] = encoder_inputs_[i] + [EOS]\n",
    "    \n",
    "    decoder_inputs_ = [[] for _ in range(0 , len(encoder_inputs_))]\n",
    "    for i in range(0 , len(encoder_inputs_)):\n",
    "        decoder_inputs_[i] = [GO] + encoder_inputs_[i]  \n",
    "        \n",
    "    for i in range(0 , len(encoder_inputs_)):\n",
    "        while len(encoder_inputs_[i]) < max_len:\n",
    "            encoder_inputs_[i].append(PAD)\n",
    "    \n",
    "    for i in range(0 , len(decoder_targets_)):\n",
    "        while len(decoder_targets_[i]) < max_len + 1:\n",
    "            decoder_targets_[i].append(PAD)    \n",
    "    \n",
    "    for i in range(0 , len(decoder_inputs_)):\n",
    "        while len(decoder_inputs_[i]) < max_len + 1:\n",
    "            decoder_inputs_[i].append(PAD)  \n",
    "    \n",
    "    encoder_inputs_ = np.array(encoder_inputs_) \n",
    "    decoder_targets_ = np.array(decoder_targets_) \n",
    "    decoder_inputs_ = np.array(decoder_inputs_) \n",
    "         \n",
    "    return encoder_inputs_ , decoder_targets_ , decoder_inputs_ "
   ]
  },
  {
   "cell_type": "code",
   "execution_count": 10,
   "metadata": {},
   "outputs": [
    {
     "name": "stdout",
     "output_type": "stream",
     "text": [
      "encoder input : [2 3 9 8 0 0 0 0]\n",
      "decoder_target : [ 2  3  9  8 10  0  0  0  0] , 10 代表 <EOS>\n",
      "decoder_input : [1 2 3 9 8 0 0 0 0] ,  1 代表 <GO>\n"
     ]
    }
   ],
   "source": [
    "encoder_inputs_ = random_sequences(length_from = 3 , \n",
    "                                   length_to = 8 ,\n",
    "                                   vocab_lower = 2 , \n",
    "                                   vocab_upper = 9 + 1 ,\n",
    "                                   batch_size = 100)\n",
    "\n",
    "encoder_inputs_ , decoder_targets_ , decoder_inputs_ = zeros_padding(encoder_inputs_ = encoder_inputs_ , \n",
    "                                                                     max_len = 8 , \n",
    "                                                                     PAD = PAD , \n",
    "                                                                     GO = GO ,\n",
    "                                                                     EOS = EOS)\n",
    "\n",
    "print('encoder input : {}'.format(encoder_inputs_[0]))\n",
    "print('decoder_target : {} , 10 代表 <EOS>'.format(decoder_targets_[0]))\n",
    "print('decoder_input : {} ,  1 代表 <GO>'.format(decoder_inputs_[0]))"
   ]
  },
  {
   "cell_type": "markdown",
   "metadata": {},
   "source": [
    "## Training "
   ]
  },
  {
   "cell_type": "code",
   "execution_count": 11,
   "metadata": {
    "scrolled": false
   },
   "outputs": [
    {
     "name": "stdout",
     "output_type": "stream",
     "text": [
      "==================================================\n",
      "batch : 0\n",
      "minibatch loss : 2.05\n",
      "~~~~~~~~~~~~~~~~~~~~~~~~~~~~~~~~~~~~~~~~\n",
      "sample : 1\n",
      "input : [4 8 9 5 2 0 0 0]\n",
      "predict : [4 5 3 1 3 3 4 4 4]\n",
      "~~~~~~~~~~~~~~~~~~~~~~~~~~~~~~~~~~~~~~~~\n",
      "sample : 2\n",
      "input : [8 5 2 3 9 4 0 0]\n",
      "predict : [5 3 3 3 6 6 3 6 6]\n",
      "~~~~~~~~~~~~~~~~~~~~~~~~~~~~~~~~~~~~~~~~\n",
      "sample : 3\n",
      "input : [4 3 2 9 6 7 8 0]\n",
      "predict : [4 3 6 4 6 4 4 3 3]\n",
      "~~~~~~~~~~~~~~~~~~~~~~~~~~~~~~~~~~~~~~~~\n",
      "sample : 4\n",
      "input : [5 4 9 2 8 3 0 0]\n",
      "predict : [5 4 3 4 4 3 6 3 6]\n",
      "~~~~~~~~~~~~~~~~~~~~~~~~~~~~~~~~~~~~~~~~\n",
      "sample : 5\n",
      "input : [9 5 4 3 2 8 0 0]\n",
      "predict : [5 4 4 3 6 6 3 3 3]\n",
      "~~~~~~~~~~~~~~~~~~~~~~~~~~~~~~~~~~~~~~~~\n",
      "sample : 6\n",
      "input : [8 9 3 0 0 0 0 0]\n",
      "predict : [5 3 4 6 6 6 4 4 4]\n",
      "==================================================\n",
      "batch : 1000\n",
      "minibatch loss : 0.25\n",
      "~~~~~~~~~~~~~~~~~~~~~~~~~~~~~~~~~~~~~~~~\n",
      "sample : 1\n",
      "input : [5 4 3 2 8 6 7 0]\n",
      "predict : [5 4 3 2 8 6 7 5 0]\n",
      "~~~~~~~~~~~~~~~~~~~~~~~~~~~~~~~~~~~~~~~~\n",
      "sample : 2\n",
      "input : [4 5 8 7 9 2 0 0]\n",
      "predict : [4 5 8 7 9 2 3 0 0]\n",
      "~~~~~~~~~~~~~~~~~~~~~~~~~~~~~~~~~~~~~~~~\n",
      "sample : 3\n",
      "input : [2 5 3 7 8 4 6 0]\n",
      "predict : [3 3 3 7 8 4 6 9 0]\n",
      "~~~~~~~~~~~~~~~~~~~~~~~~~~~~~~~~~~~~~~~~\n",
      "sample : 4\n",
      "input : [2 4 6 9 8 5 0 0]\n",
      "predict : [2 6 9 9 8 5 9 0 0]\n",
      "~~~~~~~~~~~~~~~~~~~~~~~~~~~~~~~~~~~~~~~~\n",
      "sample : 5\n",
      "input : [2 7 3 4 0 0 0 0]\n",
      "predict : [2 7 3 4 5 0 0 0 0]\n",
      "~~~~~~~~~~~~~~~~~~~~~~~~~~~~~~~~~~~~~~~~\n",
      "sample : 6\n",
      "input : [6 8 5 9 3 7 4 0]\n",
      "predict : [6 8 5 9 3 7 4 6 0]\n",
      "==================================================\n",
      "batch : 2000\n",
      "minibatch loss : 0.09\n",
      "~~~~~~~~~~~~~~~~~~~~~~~~~~~~~~~~~~~~~~~~\n",
      "sample : 1\n",
      "input : [3 8 4 6 2 7 0 0]\n",
      "predict : [3 8 4 6 2 7 3 0 0]\n",
      "~~~~~~~~~~~~~~~~~~~~~~~~~~~~~~~~~~~~~~~~\n",
      "sample : 2\n",
      "input : [9 6 4 8 2 3 0 0]\n",
      "predict : [9 6 4 8 2 3 5 0 0]\n",
      "~~~~~~~~~~~~~~~~~~~~~~~~~~~~~~~~~~~~~~~~\n",
      "sample : 3\n",
      "input : [6 9 8 4 0 0 0 0]\n",
      "predict : [6 9 8 4 5 0 0 0 0]\n",
      "~~~~~~~~~~~~~~~~~~~~~~~~~~~~~~~~~~~~~~~~\n",
      "sample : 4\n",
      "input : [8 9 7 0 0 0 0 0]\n",
      "predict : [8 9 7 5 0 0 0 0 0]\n",
      "~~~~~~~~~~~~~~~~~~~~~~~~~~~~~~~~~~~~~~~~\n",
      "sample : 5\n",
      "input : [9 4 6 7 0 0 0 0]\n",
      "predict : [9 4 6 7 0 0 0 0 0]\n",
      "~~~~~~~~~~~~~~~~~~~~~~~~~~~~~~~~~~~~~~~~\n",
      "sample : 6\n",
      "input : [9 2 7 8 6 5 0 0]\n",
      "predict : [9 2 7 8 6 5 9 0 0]\n",
      "==================================================\n",
      "batch : 3000\n",
      "minibatch loss : 0.04\n",
      "~~~~~~~~~~~~~~~~~~~~~~~~~~~~~~~~~~~~~~~~\n",
      "sample : 1\n",
      "input : [5 4 3 0 0 0 0 0]\n",
      "predict : [5 4 3 0 0 0 0 0 0]\n",
      "~~~~~~~~~~~~~~~~~~~~~~~~~~~~~~~~~~~~~~~~\n",
      "sample : 2\n",
      "input : [9 3 7 6 0 0 0 0]\n",
      "predict : [9 3 7 6 5 0 0 0 0]\n",
      "~~~~~~~~~~~~~~~~~~~~~~~~~~~~~~~~~~~~~~~~\n",
      "sample : 3\n",
      "input : [4 5 3 6 9 8 0 0]\n",
      "predict : [4 5 3 6 9 8 7 0 0]\n",
      "~~~~~~~~~~~~~~~~~~~~~~~~~~~~~~~~~~~~~~~~\n",
      "sample : 4\n",
      "input : [5 7 4 8 0 0 0 0]\n",
      "predict : [5 7 4 8 0 0 0 0 0]\n",
      "~~~~~~~~~~~~~~~~~~~~~~~~~~~~~~~~~~~~~~~~\n",
      "sample : 5\n",
      "input : [3 7 5 8 2 6 0 0]\n",
      "predict : [3 7 5 8 2 6 9 0 0]\n",
      "~~~~~~~~~~~~~~~~~~~~~~~~~~~~~~~~~~~~~~~~\n",
      "sample : 6\n",
      "input : [6 4 7 2 3 0 0 0]\n",
      "predict : [6 4 7 2 3 0 0 0 0]\n",
      "==================================================\n",
      "batch : 4000\n",
      "minibatch loss : 0.04\n",
      "~~~~~~~~~~~~~~~~~~~~~~~~~~~~~~~~~~~~~~~~\n",
      "sample : 1\n",
      "input : [3 8 2 5 4 6 7 9]\n",
      "predict : [3 8 2 5 4 6 7 9 2]\n",
      "~~~~~~~~~~~~~~~~~~~~~~~~~~~~~~~~~~~~~~~~\n",
      "sample : 2\n",
      "input : [3 6 4 0 0 0 0 0]\n",
      "predict : [3 6 4 5 0 0 0 0 0]\n",
      "~~~~~~~~~~~~~~~~~~~~~~~~~~~~~~~~~~~~~~~~\n",
      "sample : 3\n",
      "input : [4 2 9 7 5 6 0 0]\n",
      "predict : [4 2 9 7 5 6 8 0 0]\n",
      "~~~~~~~~~~~~~~~~~~~~~~~~~~~~~~~~~~~~~~~~\n",
      "sample : 4\n",
      "input : [9 5 6 7 3 0 0 0]\n",
      "predict : [9 5 6 7 3 8 0 0 0]\n",
      "~~~~~~~~~~~~~~~~~~~~~~~~~~~~~~~~~~~~~~~~\n",
      "sample : 5\n",
      "input : [4 8 7 9 5 2 0 0]\n",
      "predict : [4 8 7 9 5 2 5 0 0]\n",
      "~~~~~~~~~~~~~~~~~~~~~~~~~~~~~~~~~~~~~~~~\n",
      "sample : 6\n",
      "input : [8 3 4 6 7 5 9 2]\n",
      "predict : [8 3 4 6 7 5 9 2 0]\n"
     ]
    }
   ],
   "source": [
    "sess = tf.Session()\n",
    "sess.run(tf.global_variables_initializer())\n",
    "\n",
    "max_batches = 4001\n",
    "batches_in_epoch = 1000\n",
    "loss_his = []\n",
    "for batch_i in range(0 , max_batches):\n",
    "    \n",
    "    encoder_inputs_ = random_sequences(length_from = 3 , \n",
    "                                       length_to = 8 ,\n",
    "                                       vocab_lower = 2 , \n",
    "                                       vocab_upper = 9 + 1 ,\n",
    "                                       batch_size = 100)\n",
    "    \n",
    "    encoder_inputs_ , decoder_targets_ , decoder_inputs_ =\\\n",
    "    zeros_padding(encoder_inputs_ = encoder_inputs_ , \n",
    "                  max_len = 8 , \n",
    "                  PAD = PAD , \n",
    "                  GO = GO ,\n",
    "                  EOS = EOS)\n",
    "    \n",
    "    feed_dict = {encoder_inputs : encoder_inputs_ , decoder_targets : decoder_targets_ , decoder_inputs : decoder_inputs_}\n",
    "    _ , loss = sess.run([train_op, croee_entropy] , feed_dict = feed_dict)\n",
    "    loss_his.append(loss)\n",
    "\n",
    "    if batch_i == 0 or batch_i % batches_in_epoch == 0:\n",
    "        loss = sess.run(croee_entropy, feed_dict = feed_dict)\n",
    "        predict_ = sess.run(decoder_prediction_visualize , feed_dict = feed_dict)\n",
    "        \n",
    "        print('=' * 50)\n",
    "        print('batch : {}'.format(batch_i))\n",
    "        print('minibatch loss : {:.2f}'.format(loss))\n",
    "        \n",
    "        for i in range(0 , batch_size):\n",
    "            print('~' * 40)\n",
    "            print('sample : {}'.format(i + 1))\n",
    "            print('input : {}'.format(encoder_inputs_[i]))\n",
    "            print('predict : {}'.format(predict_[i]))\n",
    "            if i >= 5 : break"
   ]
  },
  {
   "cell_type": "code",
   "execution_count": 12,
   "metadata": {},
   "outputs": [
    {
     "data": {
      "text/plain": [
       "Text(0,0.5,'loss')"
      ]
     },
     "execution_count": 12,
     "metadata": {},
     "output_type": "execute_result"
    },
    {
     "data": {
      "image/png": "[encoded data removed]",
      "text/plain": [
       "<Figure size 720x432 with 1 Axes>"
      ]
     },
     "metadata": {},
     "output_type": "display_data"
    }
   ],
   "source": [
    "fig , ax = plt.subplots(1 , 1 , figsize = (10 , 6))\n",
    "ax.plot(np.arange(len(loss_his)) , np.array(loss_his)) \n",
    "ax.set_xlabel('Number of iterations' , fontsize = 20)\n",
    "ax.set_ylabel('loss' , fontsize = 20)"
   ]
  }
 ],
 "metadata": {
  "kernelspec": {
   "display_name": "Python 3",
   "language": "python",
   "name": "python3"
  },
  "language_info": {
   "codemirror_mode": {
    "name": "ipython",
    "version": 3
   },
   "file_extension": ".py",
   "mimetype": "text/x-python",
   "name": "python",
   "nbconvert_exporter": "python",
   "pygments_lexer": "ipython3",
   "version": "3.6.5"
  }
 },
 "nbformat": 4,
 "nbformat_minor": 2
}
